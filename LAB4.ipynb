{
 "cells": [
  {
   "cell_type": "markdown",
   "metadata": {},
   "source": [
    "## Example of relationship graph"
   ]
  },
  {
   "cell_type": "code",
   "execution_count": 26,
   "metadata": {},
   "outputs": [
    {
     "name": "stdout",
     "output_type": "stream",
     "text": [
      "Kolduny\n",
      "[[ 0.   0.2  0.7  0.8]\n",
      " [ 0.   0.3  0.7  0.5]\n",
      " [ 0.5  0.5  0.5  0.5]\n",
      " [ 0.7  0.4  0.4  0.6]\n",
      " [ 0.7  0.7  0.3  0.3]]\n",
      "Wizards\n",
      "[[ 0.   0.3  0.3  0.7  0. ]\n",
      " [ 0.3  0.1  0.7  0.3  0.8]\n",
      " [ 0.8  0.6  0.5  0.4  0.3]\n",
      " [ 0.8  0.8  0.5  0.6  0.2]]\n",
      "\n",
      "Row -kolduny, Coloum - wizards\n",
      "\n",
      "[0.64000000000000012, 0.64000000000000012, 0.40000000000000002, 0.47999999999999998, 0.20999999999999999, 0.55999999999999994, 0.41999999999999998, 0.34999999999999998, 0.29999999999999999, 0.23999999999999999, 0.40000000000000002, 0.40000000000000002, 0.34999999999999998, 0.34999999999999998, 0.40000000000000002, 0.47999999999999998, 0.47999999999999998, 0.29999999999999999, 0.48999999999999994, 0.32000000000000006, 0.23999999999999999, 0.23999999999999999, 0.48999999999999994, 0.48999999999999994, 0.55999999999999994]\n"
     ]
    }
   ],
   "source": [
    "import numpy as np\n",
    "\n",
    "kolduny = np.array([[0, .2, .7, .8 ], [0, .3, .7, .5], [.5, .5, .5, .5], [.7, .4, .4, .6 ], [.7, .7, .3, .3]])\n",
    "wizardss = np.array([[0, 0.3, 0.3, 0.7, 0], [0.3, 0.1, 0.7, 0.3, 0.8], [0.8, 0.6, 0.5, 0.4, 0.3], [0.8, 0.8, 0.5, 0.6, 0.2]])\n",
    "\n",
    "print(\"Kolduny\")\n",
    "print(kolduny)\n",
    "print(\"Wizards\")\n",
    "print(wizardss)\n",
    "z = [] \n",
    "for x1 in kolduny:\n",
    "    for y1 in wizardss.T:\n",
    "        z.append(max(np.multiply(x1, y1)))\n",
    "print(\"\\nRow -kolduny, Coloum - wizards\\n\")\n",
    "print(z)"
   ]
  },
  {
   "cell_type": "code",
   "execution_count": null,
   "metadata": {
    "collapsed": true
   },
   "outputs": [],
   "source": [
    "Группа А Количество Группа Б Количество\n",
    "Костянной дракон 1 Крестьяне 2 \n",
    "Ведьмы 2 Феи 4\n",
    "Вампиры 3 Эльфы 3 \n",
    "Зомби 5 Крестьяне 5\n",
    "Скелеты 8 Эльфы 8 \n"
   ]
  },
  {
   "cell_type": "code",
   "execution_count": 65,
   "metadata": {},
   "outputs": [
    {
     "name": "stdout",
     "output_type": "stream",
     "text": [
      "Костянной дракон 0.7\n",
      "Крестьяне: 0.0\n"
     ]
    }
   ],
   "source": [
    "\n",
    "index, value = max(enumerate(new), key=operator.itemgetter(1))\n",
    "print(\"Костянной дракон\", value)\n",
    "wNew = [0 for x in range(5)]\n",
    "for x in range(0, 4):\n",
    "        wNew[x]=wizards[x,index]\n",
    "index1, value1 = min(enumerate(wNew), key=operator.itemgetter(1))\n",
    "if(index1==0):\n",
    "    print(\"Крестьяне:\", value1)"
   ]
  },
  {
   "cell_type": "code",
   "execution_count": null,
   "metadata": {
    "collapsed": true
   },
   "outputs": [],
   "source": []
  }
 ],
 "metadata": {
  "anaconda-cloud": {},
  "kernelspec": {
   "display_name": "Python 3",
   "language": "python",
   "name": "python3"
  },
  "language_info": {
   "codemirror_mode": {
    "name": "ipython",
    "version": 3
   },
   "file_extension": ".py",
   "mimetype": "text/x-python",
   "name": "python",
   "nbconvert_exporter": "python",
   "pygments_lexer": "ipython3",
   "version": "3.6.3"
  }
 },
 "nbformat": 4,
 "nbformat_minor": 2
}
